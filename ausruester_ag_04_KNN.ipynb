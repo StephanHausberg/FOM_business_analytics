{
 "cells": [
  {
   "cell_type": "markdown",
   "id": "395c43ab-0504-4949-a947-78b24940b288",
   "metadata": {},
   "source": [
    "# Ausrüster AG use-case\n",
    "\n",
    "## KNN Imputation in real life\n",
    "\n",
    "Author: Dr. Stephan Hausberg, Winter semester 2024\n",
    "\n",
    "1. Step: Generate Synthetic Data of customers including misssing data"
   ]
  },
  {
   "cell_type": "code",
   "execution_count": null,
   "id": "c28df089-03d9-4bb8-adee-74e54ceb84a0",
   "metadata": {},
   "outputs": [],
   "source": [
    "import pandas as pd\n",
    "import numpy as np\n",
    "from sklearn.model_selection import train_test_split\n",
    "\n",
    "# Set random seed for reproducibility\n",
    "np.random.seed(0)\n",
    "\n",
    "# Generating synthetic customer data\n",
    "num_customers = 100\n",
    "\n",
    "data = {\n",
    "    'Age': np.random.randint(18, 70, size=num_customers),                 # Age: 18 to 70\n",
    "    'Income': np.random.randint(20000, 120000, size=num_customers),       # Income: $20,000 to $120,000\n",
    "    'Gender': np.random.choice(['Male', 'Female'], size=num_customers),   # Gender: Male or Female\n",
    "    'Purchase_Frequency': np.random.randint(1, 20, size=num_customers),   # Purchase Frequency: 1 to 20 times per year\n",
    "    'Average_Purchase_Amount': np.random.uniform(50, 500, size=num_customers)  # Average Purchase Amount: $50 to $500\n",
    "}\n",
    "\n",
    "# Create DataFrame\n",
    "df = pd.DataFrame(data)\n",
    "\n",
    "# Introduce missing values randomly in 'Age' and 'Income' columns\n",
    "missing_rate = 0.1  # 10% missing rate\n",
    "num_missing = int(num_customers * missing_rate)\n",
    "\n",
    "# Randomly set some ages and incomes to NaN\n",
    "missing_age_indices = np.random.choice(df.index, num_missing, replace=False)\n",
    "missing_income_indices = np.random.choice(df.index, num_missing, replace=False)\n",
    "df.loc[missing_age_indices, 'Age'] = np.nan\n",
    "df.loc[missing_income_indices, 'Income'] = np.nan\n",
    "\n",
    "# Display the first few rows"
   ]
  },
  {
   "cell_type": "code",
   "execution_count": null,
   "id": "b0e98054-9bbb-4daf-8217-971f44164160",
   "metadata": {},
   "outputs": [],
   "source": [
    "print(df.head(10))"
   ]
  },
  {
   "cell_type": "markdown",
   "id": "d332bbc3-a67a-49e9-81ea-172e14b6052c",
   "metadata": {},
   "source": [
    "2. step: Imputation via KNN imputer"
   ]
  },
  {
   "cell_type": "code",
   "execution_count": null,
   "id": "60573328-a2da-47e6-9420-e28c232d93a6",
   "metadata": {},
   "outputs": [],
   "source": [
    "from sklearn.impute import KNNImputer\n",
    "\n",
    "# Encode 'Gender' as a numeric value to use it in KNN imputation\n",
    "df['Gender'] = df['Gender'].map({'Male': 0, 'Female': 1})\n",
    "\n",
    "# Initialize the KNN imputer\n",
    "imputer = KNNImputer(n_neighbors=5)\n",
    "\n",
    "# Apply imputation\n",
    "df_imputed = pd.DataFrame(imputer.fit_transform(df), columns=df.columns)\n",
    "\n",
    "# Re-convert 'Gender' column back to categorical values for clarity\n",
    "df_imputed['Gender'] = df_imputed['Gender'].round().map({0: 'Male', 1: 'Female'})\n",
    "\n",
    "# Display the imputed DataFrame\n",
    "print(df_imputed.head(10))"
   ]
  }
 ],
 "metadata": {
  "kernelspec": {
   "display_name": "Python 3 (ipykernel)",
   "language": "python",
   "name": "python3"
  },
  "language_info": {
   "codemirror_mode": {
    "name": "ipython",
    "version": 3
   },
   "file_extension": ".py",
   "mimetype": "text/x-python",
   "name": "python",
   "nbconvert_exporter": "python",
   "pygments_lexer": "ipython3",
   "version": "3.10.0"
  }
 },
 "nbformat": 4,
 "nbformat_minor": 5
}
