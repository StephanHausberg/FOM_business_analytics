{
 "cells": [
  {
   "cell_type": "markdown",
   "id": "761bd743-1d43-47e1-bb8b-2e9aeddf0961",
   "metadata": {},
   "source": [
    "# Ausrüster AG Use Case\n",
    "\n",
    "## Python Notebook: FOM - Area of Application - Business Analytics\n",
    "\n",
    "Author: Dr. Stephan Hausberg, Winter semester 2024\n",
    "\n",
    "Learning objectives:\n",
    "\n",
    "- Data quality impact\n",
    "- Imputation and its impact\n",
    "\n",
    "1. Read-in data and descriptive analytics\n",
    "\n",
    "We find a dataset containing a sample of 1.000 machines, each with 2 different sensors, the age of the machine and an indicator if it failed or not. Let's take a look at the data."
   ]
  },
  {
   "cell_type": "code",
   "execution_count": null,
   "id": "2e454d13-6fdb-4064-b62b-a5e755de794b",
   "metadata": {},
   "outputs": [],
   "source": [
    "import pandas as pd\n",
    "import numpy as np\n",
    "\n",
    "df_in = pd.read_excel(\"data_pred_main.xlsx\")[['Nummer', 'Sensor 1', 'Sensor 2',\n",
    "                                                           'Alter des Bauteils in Tagen',\n",
    "                                                           'Ausfall']]"
   ]
  },
  {
   "cell_type": "code",
   "execution_count": null,
   "id": "cc2b0ec5-fe28-49d2-b8bd-315fa2e6d880",
   "metadata": {},
   "outputs": [],
   "source": [
    "df_in.head()"
   ]
  },
  {
   "cell_type": "code",
   "execution_count": null,
   "id": "8d313e1c-5a04-40dc-83a3-c6ba212e47b9",
   "metadata": {},
   "outputs": [],
   "source": [
    "df_in.describe()"
   ]
  },
  {
   "cell_type": "code",
   "execution_count": null,
   "id": "cb5c355d-ed48-4da5-9f24-e1133e3912c2",
   "metadata": {},
   "outputs": [],
   "source": [
    "from summarytools import dfSummary\n",
    "dfSummary(df_in)"
   ]
  },
  {
   "cell_type": "markdown",
   "id": "9b0d6a84-336b-4fd0-ba0f-f6e2e6b0267d",
   "metadata": {},
   "source": [
    "Seaborn is a library settled upon matplotlib. We take it to create a correlation plot between these features."
   ]
  },
  {
   "cell_type": "code",
   "execution_count": null,
   "id": "caf41e40-33f7-4ad1-83d3-f12f843fa295",
   "metadata": {},
   "outputs": [],
   "source": [
    "import seaborn as sns\n",
    "import matplotlib.pyplot as plt\n",
    "\n",
    "f, ax = plt.subplots(figsize=(5, 5))\n",
    "corr = df_in.corr()\n",
    "sns.heatmap(corr,\n",
    "    cmap=sns.diverging_palette(200, 10, as_cmap=True),\n",
    "    vmin=-1.0, vmax=1.0,\n",
    "    square=True, ax=ax)"
   ]
  },
  {
   "cell_type": "markdown",
   "id": "aec83aaa-f70c-44a7-a84a-3de7802eecb1",
   "metadata": {},
   "source": [
    "2. Modification of data and imputation effects \n",
    "\n",
    "Creating a new dataframe and set all values that create a signal in \"Sensor 2\" to missing values (frac = 1)"
   ]
  },
  {
   "cell_type": "code",
   "execution_count": null,
   "id": "89064631-7d88-4c49-9932-6c4c6fb2e6fb",
   "metadata": {},
   "outputs": [],
   "source": [
    "# Creating a second dataframe named df_2 as a copy\n",
    "df_2 = df_in.copy()\n",
    "\n",
    "condition = df_2['Ausfall'] == 1\n",
    "\n",
    "filtered_df = df_2[condition]\n",
    "\n",
    "random_sample = filtered_df.sample(frac=1, random_state=1)  # Set random_state for reproducibility\n",
    "\n",
    "df_2.loc[random_sample.index, 'Sensor 2'] = np.nan"
   ]
  },
  {
   "cell_type": "markdown",
   "id": "536b9f5c-5603-4fb4-a076-5a41a76ce28d",
   "metadata": {},
   "source": [
    "How does this effect the summary statistics?!"
   ]
  },
  {
   "cell_type": "code",
   "execution_count": null,
   "id": "572146c5-f621-4ea6-b57c-fe28e1a2938f",
   "metadata": {},
   "outputs": [],
   "source": [
    "dfSummary(df_2)"
   ]
  },
  {
   "cell_type": "markdown",
   "id": "e2e9f41b-4254-4e48-a637-29f82fe0f66a",
   "metadata": {},
   "source": [
    "Take a quick look at how this effects the correlation plot."
   ]
  },
  {
   "cell_type": "code",
   "execution_count": null,
   "id": "5f03146a-3b9f-48d9-848f-f8eacc4e5cb7",
   "metadata": {},
   "outputs": [],
   "source": [
    "f, ax = plt.subplots(figsize=(5, 5))\n",
    "corr = df_2.corr()\n",
    "sns.heatmap(corr,\n",
    "    cmap=sns.diverging_palette(200, 10, as_cmap=True),\n",
    "    vmin=-1.0, vmax=1.0,\n",
    "    square=True, ax=ax)"
   ]
  },
  {
   "cell_type": "markdown",
   "id": "f797d3db-db95-4751-9755-a56701e57453",
   "metadata": {},
   "source": [
    "We realize that the correlation between Ausfall and Sensor 2 has completely vanished. So signal went to zero and there are is only the feature \"Alter\" left to explain \"Ausfall\" in a possible model. Let's go on and impute the missing data with the given mean values of that variable. And save this in another dataframe."
   ]
  },
  {
   "cell_type": "code",
   "execution_count": null,
   "id": "7588ea08-2ece-4fab-babe-a2a8c5cbbff3",
   "metadata": {},
   "outputs": [],
   "source": [
    "df_3 = df_2.copy().fillna(df_2.mean())\n",
    "\n",
    "f, ax = plt.subplots(figsize=(5, 5))\n",
    "corr = df_3.corr()\n",
    "sns.heatmap(corr,\n",
    "    cmap=sns.diverging_palette(200, 10, as_cmap=True),\n",
    "    vmin=-1.0, vmax=1.0,\n",
    "    square=True, ax=ax)"
   ]
  },
  {
   "cell_type": "markdown",
   "id": "2f48f9c0-b42a-4e79-8ba1-51409473df6e",
   "metadata": {},
   "source": [
    "The summary statistics also show that the distribution has changed significantly after imputing values with the mean value."
   ]
  },
  {
   "cell_type": "code",
   "execution_count": null,
   "id": "d77a5109-29c8-41e6-b579-881a54da5d36",
   "metadata": {},
   "outputs": [],
   "source": [
    "dfSummary(df_3)"
   ]
  },
  {
   "cell_type": "markdown",
   "id": "cf01c291-2053-4f7b-8a35-8d8f715dc599",
   "metadata": {},
   "source": [
    "Let's visualize this in a more compound graph."
   ]
  },
  {
   "cell_type": "code",
   "execution_count": null,
   "id": "1c50f39c-ca94-4d9f-bfc2-00cabea5f320",
   "metadata": {},
   "outputs": [],
   "source": [
    "# Create the plot\n",
    "plt.figure(figsize=(10, 6))\n",
    "\n",
    "# Plot histograms for each distribution with transparency (alpha) and different colors\n",
    "plt.hist(df_in['Sensor 2'], bins=20, color='blue', alpha=0.1, label='Original Data')\n",
    "plt.hist(df_2['Sensor 2'], bins=20, color='red', alpha=0.2, label='Data with missing values')\n",
    "plt.hist(df_3['Sensor 2'], bins=20, color='green', alpha=0.3, label='Imputed data')\n",
    "\n",
    "# Add title and labels\n",
    "plt.title(\"Histograms of original, missing and imputed data\", fontsize=16)\n",
    "plt.xlabel(\"Value\", fontsize=12)\n",
    "plt.ylabel(\"Amount of realizations\", fontsize=12)\n",
    "\n",
    "# Show legend\n",
    "plt.legend()\n",
    "\n",
    "# Display the plot\n",
    "plt.show()\n"
   ]
  }
 ],
 "metadata": {
  "kernelspec": {
   "display_name": "Python 3 (ipykernel)",
   "language": "python",
   "name": "python3"
  },
  "language_info": {
   "codemirror_mode": {
    "name": "ipython",
    "version": 3
   },
   "file_extension": ".py",
   "mimetype": "text/x-python",
   "name": "python",
   "nbconvert_exporter": "python",
   "pygments_lexer": "ipython3",
   "version": "3.10.0"
  }
 },
 "nbformat": 4,
 "nbformat_minor": 5
}
