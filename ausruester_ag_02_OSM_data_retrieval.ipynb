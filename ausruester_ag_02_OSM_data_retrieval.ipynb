{
 "cells": [
  {
   "cell_type": "markdown",
   "id": "761bd743-1d43-47e1-bb8b-2e9aeddf0961",
   "metadata": {},
   "source": [
    "# Ausrüster AG Use Case\n",
    "\n",
    "## Python Notebook: FOM - Area of Application - Business Analytics\n",
    "\n",
    "Author: Dr. Stephan Hausberg, Winter semester 2024\n",
    "\n",
    "Data Retrieval of external geographical data: Open Street Map\n",
    "\n"
   ]
  },
  {
   "cell_type": "code",
   "execution_count": null,
   "id": "257bca02-03a0-466b-8020-84a5d96fbefa",
   "metadata": {},
   "outputs": [],
   "source": [
    "import pandas as pd\n",
    "import numpy as np\n",
    "import overpy\n",
    "import requests\n",
    "\n",
    "boundbox = (50.671651, 6.960198, 50.855700, 7.283077)\n",
    "\n",
    "### Data retrieval\n",
    "def get_data(bbox: tuple, amenity_spec : str ) -> object:\n",
    "    ###\n",
    "    api = overpy.Overpass()\n",
    "    a, b, c, d = bbox[0], bbox[1], bbox[2], bbox[3]\n",
    "    long_str = (\n",
    "        '[out:json][timeout:200];(node[\"amenity\" = \"' + amenity_spec + '\"](%s,%s,%s,%s););out body;>;out skel qt;'\n",
    "        % (a, b, c, d)\n",
    "    )\n",
    "    result = api.query(long_str)\n",
    "    return result\n",
    "res_data = get_data(boundbox, \"doctors\")"
   ]
  },
  {
   "cell_type": "code",
   "execution_count": null,
   "id": "78d003c5-2424-4028-b05f-439ef447b70a",
   "metadata": {},
   "outputs": [],
   "source": [
    "res_data\n",
    "#res_data.nodes\n",
    "#res_data.nodes[4]\n",
    "#res_data.nodes[4].id\n",
    "#res_data.nodes[4].tags"
   ]
  },
  {
   "cell_type": "code",
   "execution_count": null,
   "id": "dc242682-9b30-4e32-9148-e18560320d95",
   "metadata": {},
   "outputs": [],
   "source": [
    "def get_highway(bbox):\n",
    "    ###\n",
    "    api = overpy.Overpass()\n",
    "    a, b, c, d = bbox[0], bbox[1], bbox[2], bbox[3]\n",
    "    long_str = (\n",
    "        '[out:json][timeout:200];(way[\"highway\"](%s,%s,%s,%s););out body;>;out skel qt;'\n",
    "        % (a, b, c, d)\n",
    "    )\n",
    "    result = api.query(long_str)\n",
    "    return result\n",
    "\n",
    "boundbox_small = (50.67, 6.95, 50.68, 6.99)\n",
    "res_highway = get_highway(boundbox_small)"
   ]
  },
  {
   "cell_type": "code",
   "execution_count": null,
   "id": "9ce6ae54-39a5-48bb-a856-6a08d72c5569",
   "metadata": {},
   "outputs": [],
   "source": [
    "res_highway.nodes\n",
    "#res_highway.ways"
   ]
  },
  {
   "cell_type": "markdown",
   "id": "a014dca2-e6a6-4943-b716-3e5d12eb62e1",
   "metadata": {},
   "source": [
    "How can we display all this data? The solution is called Folium!\n",
    "First, we need to transform this into a different coordinate and dataframe setting."
   ]
  },
  {
   "cell_type": "code",
   "execution_count": null,
   "id": "0e7ad193-9aac-4562-93ee-0cd6c4716407",
   "metadata": {},
   "outputs": [],
   "source": [
    "### Transformation to dataframe\n",
    "def transform_data_to_df(long_dict) -> pd.DataFrame:\n",
    "    cols = ['id', 'lat', 'lon', 'name', 'label']\n",
    "    df = pd.DataFrame(columns = cols)\n",
    "    for i in range(0,len(long_dict.nodes)):\n",
    "        data = long_dict.nodes[i]\n",
    "        try:\n",
    "            data.tags['name']\n",
    "            name = data.tags['name']\n",
    "        except:\n",
    "            name = \"\"\n",
    "        try:\n",
    "            data.tags['amenity']\n",
    "            label = data.tags['amenity']\n",
    "        except:\n",
    "            name = \"\"\n",
    "        locator = [int(data.id), float(data.lat), float(data.lon), name, label]\n",
    "        df_1 = pd.DataFrame.from_records([locator])\n",
    "        df_1.columns = cols\n",
    "        df = pd.concat([df, df_1], ignore_index = True)\n",
    "    return df\n",
    "\n",
    "\n",
    "### Execution\n",
    "cols = ['id', 'lat', 'lon', 'name', 'label']\n",
    "df_out = pd.DataFrame(columns = cols)\n",
    "\n",
    "for j in ['doctors', 'hospital', 'clinic']:\n",
    "    res_data = get_data(boundbox, j)\n",
    "    df_out = pd.concat([df_out, transform_data_to_df(res_data)])\n",
    "\n",
    "df_out = df_out.sort_values(by = 'id').reset_index(drop = True)"
   ]
  },
  {
   "cell_type": "code",
   "execution_count": null,
   "id": "d83a7c5c-24a0-482e-8d43-67c3fe8f3fc4",
   "metadata": {},
   "outputs": [],
   "source": [
    "df_out.head()"
   ]
  },
  {
   "cell_type": "code",
   "execution_count": null,
   "id": "9419e0dc-7dc2-4cf4-af39-12692f9751b8",
   "metadata": {},
   "outputs": [],
   "source": [
    "dict_highway = dict()\n",
    "dict_nodes = dict()\n",
    "for j in res_highway.ways:\n",
    "    liste = []\n",
    "    for i in j.nodes:\n",
    "        liste.append([float(i.lat), float(i.lon)])\n",
    "        dict_nodes[i.id] = [float(i.lat), float(i.lon)]\n",
    "    dict_highway[j.id] = liste"
   ]
  },
  {
   "cell_type": "code",
   "execution_count": null,
   "id": "73192c2c-4664-4515-b09f-a64c19ccd589",
   "metadata": {},
   "outputs": [],
   "source": [
    "dict_highway"
   ]
  },
  {
   "cell_type": "markdown",
   "id": "48e9b8e1-a565-407b-8e9c-b14f2dabaa8e",
   "metadata": {
    "scrolled": true
   },
   "source": [
    "Using Folium library to visualize data we have extracted from OSM."
   ]
  },
  {
   "cell_type": "code",
   "execution_count": null,
   "id": "d7a68871-57ce-4221-b72b-ebc48a679066",
   "metadata": {
    "scrolled": true
   },
   "outputs": [],
   "source": [
    "import folium as fl\n",
    "\n",
    "m = fl.Map(\n",
    "    location=[df_out.lat.median(), df_out.lon.median()],\n",
    "    zoom_start=11,\n",
    "    tiles=\"cartodbpositron\",\n",
    ")\n",
    "\n",
    "#'openstreetmap'\n",
    "#'mapquestopen'\n",
    "#'Mapbox Control Room'\n",
    "#'stamenwatercolor'\n",
    "\n",
    "\n",
    "layer_raw = fl.FeatureGroup(name=\"Doctors\",\n",
    "                            show=False)\n",
    "\n",
    "for i in range(0, df_out.shape[0]):\n",
    "    fl.Circle(\n",
    "        location=[df_out.iloc[i].lat, df_out.iloc[i].lon],\n",
    "        radius=10,\n",
    "        color=\"darkblue\",\n",
    "        opacity=0.8,\n",
    "    ).add_to(layer_raw)\n",
    "m.add_child(layer_raw)\n",
    "\n",
    "fg = fl.FeatureGroup(\"Straßen\", show=False)\n",
    "for key in dict_highway:\n",
    "    fl.PolyLine(dict_highway[key], opacity=0.50, weight=2, color=\"grey\").add_to(fg)\n",
    "fg.add_to(m)\n",
    "\n",
    "fl.LayerControl().add_to(m)\n",
    "\n",
    "m"
   ]
  }
 ],
 "metadata": {
  "kernelspec": {
   "display_name": "Python 3 (ipykernel)",
   "language": "python",
   "name": "python3"
  },
  "language_info": {
   "codemirror_mode": {
    "name": "ipython",
    "version": 3
   },
   "file_extension": ".py",
   "mimetype": "text/x-python",
   "name": "python",
   "nbconvert_exporter": "python",
   "pygments_lexer": "ipython3",
   "version": "3.10.0"
  }
 },
 "nbformat": 4,
 "nbformat_minor": 5
}
